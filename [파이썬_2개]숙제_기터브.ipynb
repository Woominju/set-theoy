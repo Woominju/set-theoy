{
  "nbformat": 4,
  "nbformat_minor": 0,
  "metadata": {
    "colab": {
      "provenance": [],
      "authorship_tag": "ABX9TyPfqNTWvkTpNMarnSH9DH3Z",
      "include_colab_link": true
    },
    "kernelspec": {
      "name": "python3",
      "display_name": "Python 3"
    },
    "language_info": {
      "name": "python"
    }
  },
  "cells": [
    {
      "cell_type": "markdown",
      "metadata": {
        "id": "view-in-github",
        "colab_type": "text"
      },
      "source": [
        "<a href=\"https://colab.research.google.com/github/Woominju/set-theoy/blob/main/%5B%ED%8C%8C%EC%9D%B4%EC%8D%AC_2%EA%B0%9C%5D%EC%88%99%EC%A0%9C_%EA%B8%B0%ED%84%B0%EB%B8%8C.ipynb\" target=\"_parent\"><img src=\"https://colab.research.google.com/assets/colab-badge.svg\" alt=\"Open In Colab\"/></a>"
      ]
    },
    {
      "cell_type": "code",
      "execution_count": 2,
      "metadata": {
        "colab": {
          "base_uri": "https://localhost:8080/"
        },
        "id": "BsJrrirgPwyn",
        "outputId": "f07094fd-ca53-4191-9862-223e06c1156f"
      },
      "outputs": [
        {
          "output_type": "stream",
          "name": "stdout",
          "text": [
            "정수를 입력하세요: 9\n",
            "정수를 입력하세요: 6\n",
            "정수를 입력하세요: 5\n",
            "정수를 입력하세요: 8\n",
            "정수를 입력하세요: 2\n",
            "두 번째로 큰 숫자는 8입니다.\n"
          ]
        }
      ],
      "source": [
        "A=[]\n",
        "for i in range(5):\n",
        "  num = int(input(\"정수를 입력하세요: \"))\n",
        "  A.append(num)\n",
        "\n",
        "A.sort()\n",
        "\n",
        "B=int(A[3])\n",
        "print(\"두 번째로 큰 숫자는 %d입니다.\" %B)\n"
      ]
    },
    {
      "cell_type": "code",
      "source": [
        "def A():\n",
        "  a = int(input(\"첫 번째 숫자를 입력하세요: \"))\n",
        "  b = int(input(\"두 번째 숫자를 입력하세요: \"))\n",
        "\n",
        "  if a-b>0:\n",
        "    B=a\n",
        "  elif (a-b)==0:\n",
        "    B=a=b\n",
        "  else:\n",
        "    B=b\n",
        "  if 1<=B and B<=10:\n",
        "    print(f\"입력한 두 숫자 중 큰 숫자는 {B}입니다.\")\n",
        "    print(\"*\"*B)\n",
        "  else:\n",
        "    print(\"입력한 숫자 중 큰 수가 1 이상 10이하의 범위에 있어야 합니다.\")\n",
        "A()"
      ],
      "metadata": {
        "colab": {
          "base_uri": "https://localhost:8080/"
        },
        "id": "iYPkGkxlRBip",
        "outputId": "58152197-110e-4eba-aa49-a9ca2e3ebe60"
      },
      "execution_count": 7,
      "outputs": [
        {
          "output_type": "stream",
          "name": "stdout",
          "text": [
            "첫 번째 숫자를 입력하세요: 8\n",
            "두 번째 숫자를 입력하세요: 6\n",
            "입력한 두 숫자 중 큰 숫자는 8입니다.\n",
            "********\n"
          ]
        }
      ]
    }
  ]
}