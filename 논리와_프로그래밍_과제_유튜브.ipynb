{
  "nbformat": 4,
  "nbformat_minor": 0,
  "metadata": {
    "colab": {
      "provenance": [],
      "toc_visible": true,
      "authorship_tag": "ABX9TyNvThCgnEQxSmTIkWfxjDIg",
      "include_colab_link": true
    },
    "kernelspec": {
      "name": "python3",
      "display_name": "Python 3"
    },
    "language_info": {
      "name": "python"
    }
  },
  "cells": [
    {
      "cell_type": "markdown",
      "metadata": {
        "id": "view-in-github",
        "colab_type": "text"
      },
      "source": [
        "<a href=\"https://colab.research.google.com/github/Woominju/set-theoy/blob/main/%EB%85%BC%EB%A6%AC%EC%99%80_%ED%94%84%EB%A1%9C%EA%B7%B8%EB%9E%98%EB%B0%8D_%EA%B3%BC%EC%A0%9C_%EC%9C%A0%ED%8A%9C%EB%B8%8C.ipynb\" target=\"_parent\"><img src=\"https://colab.research.google.com/assets/colab-badge.svg\" alt=\"Open In Colab\"/></a>"
      ]
    },
    {
      "cell_type": "code",
      "execution_count": null,
      "metadata": {
        "id": "efp0yEDJL7lV",
        "outputId": "ddf84739-b243-4247-ffec-c0ca9c9c31d1",
        "colab": {
          "base_uri": "https://localhost:8080/"
        }
      },
      "outputs": [
        {
          "output_type": "stream",
          "name": "stdout",
          "text": [
            "1\n"
          ]
        }
      ],
      "source": [
        "print(1)"
      ]
    },
    {
      "cell_type": "code",
      "source": [
        "print(\"hello\")"
      ],
      "metadata": {
        "id": "C0BaXXgtNoJg"
      },
      "execution_count": null,
      "outputs": []
    },
    {
      "cell_type": "code",
      "source": [
        "vegetable = \"avocado\""
      ],
      "metadata": {
        "id": "JRezlBIUNqqb"
      },
      "execution_count": null,
      "outputs": []
    },
    {
      "cell_type": "code",
      "source": [
        "vegetable"
      ],
      "metadata": {
        "colab": {
          "base_uri": "https://localhost:8080/",
          "height": 35
        },
        "id": "ltaP4nVsN38I",
        "outputId": "0e84d238-9995-4452-d048-bdfab0b858b5"
      },
      "execution_count": null,
      "outputs": [
        {
          "output_type": "execute_result",
          "data": {
            "text/plain": [
              "'avocado'"
            ],
            "application/vnd.google.colaboratory.intrinsic+json": {
              "type": "string"
            }
          },
          "metadata": {},
          "execution_count": 7
        }
      ]
    },
    {
      "cell_type": "code",
      "source": [
        "decorate = 'carrot'"
      ],
      "metadata": {
        "id": "ffCsoaZiN8QH"
      },
      "execution_count": null,
      "outputs": []
    },
    {
      "cell_type": "code",
      "source": [
        "print(vegetable)\n",
        "print(decorate)"
      ],
      "metadata": {
        "colab": {
          "base_uri": "https://localhost:8080/"
        },
        "id": "Gx7aM_YiN-dR",
        "outputId": "f86ebaf6-b784-4506-8516-6b90e010d3d8"
      },
      "execution_count": null,
      "outputs": [
        {
          "output_type": "stream",
          "name": "stdout",
          "text": [
            "avocado\n",
            "carrot\n"
          ]
        }
      ]
    },
    {
      "cell_type": "code",
      "source": [
        "def make_sandwhich(cheese, bread, vegetable):\n",
        "  sandwich =bread + cheese + vegetable + bread\n",
        "  return sandwich"
      ],
      "metadata": {
        "id": "RY6xqFcOOIbx"
      },
      "execution_count": null,
      "outputs": []
    },
    {
      "cell_type": "code",
      "source": [
        "#int\n",
        "print(2)"
      ],
      "metadata": {
        "colab": {
          "base_uri": "https://localhost:8080/"
        },
        "id": "6bK1ZiA7OYPK",
        "outputId": "651e8868-3c04-4775-d571-9c58ea987317"
      },
      "execution_count": null,
      "outputs": [
        {
          "output_type": "stream",
          "name": "stdout",
          "text": [
            "2\n"
          ]
        }
      ]
    },
    {
      "cell_type": "code",
      "source": [
        "#float\n",
        "print(30.3)\n",
        "print(2.0)"
      ],
      "metadata": {
        "colab": {
          "base_uri": "https://localhost:8080/"
        },
        "id": "a7_cOM54OYVX",
        "outputId": "d5760de9-4ac9-485b-9bb0-06d5c9ded09b"
      },
      "execution_count": null,
      "outputs": [
        {
          "output_type": "stream",
          "name": "stdout",
          "text": [
            "30.3\n",
            "2.0\n"
          ]
        }
      ]
    },
    {
      "cell_type": "code",
      "source": [
        "#type()\n",
        "type(30.3)"
      ],
      "metadata": {
        "colab": {
          "base_uri": "https://localhost:8080/"
        },
        "id": "TyP7swUQOjMR",
        "outputId": "5690cb75-5d6b-4710-e199-9474e5dcb73d"
      },
      "execution_count": null,
      "outputs": [
        {
          "output_type": "execute_result",
          "data": {
            "text/plain": [
              "float"
            ]
          },
          "metadata": {},
          "execution_count": 13
        }
      ]
    },
    {
      "cell_type": "code",
      "source": [
        "2+2"
      ],
      "metadata": {
        "colab": {
          "base_uri": "https://localhost:8080/"
        },
        "id": "-LtnHIIHOmZ-",
        "outputId": "d218665e-c361-4402-bbee-78ff90ef0004"
      },
      "execution_count": null,
      "outputs": [
        {
          "output_type": "execute_result",
          "data": {
            "text/plain": [
              "4"
            ]
          },
          "metadata": {},
          "execution_count": 15
        }
      ]
    },
    {
      "cell_type": "code",
      "source": [
        "2*10"
      ],
      "metadata": {
        "colab": {
          "base_uri": "https://localhost:8080/"
        },
        "id": "0qg6XDQcOygU",
        "outputId": "02e234ec-e8f8-4d0d-ef88-0bdfdfd37daf"
      },
      "execution_count": null,
      "outputs": [
        {
          "output_type": "execute_result",
          "data": {
            "text/plain": [
              "20"
            ]
          },
          "metadata": {},
          "execution_count": 16
        }
      ]
    },
    {
      "cell_type": "code",
      "source": [
        "2**10"
      ],
      "metadata": {
        "colab": {
          "base_uri": "https://localhost:8080/"
        },
        "id": "LqPj9fWtOz-T",
        "outputId": "a313b35e-83a8-429f-f201-3dd3851e0941"
      },
      "execution_count": null,
      "outputs": [
        {
          "output_type": "execute_result",
          "data": {
            "text/plain": [
              "1024"
            ]
          },
          "metadata": {},
          "execution_count": 17
        }
      ]
    },
    {
      "cell_type": "code",
      "source": [
        "#\"/\"->float\n",
        "10/3"
      ],
      "metadata": {
        "colab": {
          "base_uri": "https://localhost:8080/"
        },
        "id": "0qf_Dq8gO2Jd",
        "outputId": "e0fa15a9-1875-432b-ed6f-e93169383a00"
      },
      "execution_count": null,
      "outputs": [
        {
          "output_type": "execute_result",
          "data": {
            "text/plain": [
              "3.3333333333333335"
            ]
          },
          "metadata": {},
          "execution_count": 18
        }
      ]
    },
    {
      "cell_type": "code",
      "source": [
        "#\"//\"->int\n",
        "10//3"
      ],
      "metadata": {
        "colab": {
          "base_uri": "https://localhost:8080/"
        },
        "id": "rdEIoJkaO6zs",
        "outputId": "e93ebb92-a528-4290-da1e-a523c4a695ad"
      },
      "execution_count": null,
      "outputs": [
        {
          "output_type": "execute_result",
          "data": {
            "text/plain": [
              "3"
            ]
          },
          "metadata": {},
          "execution_count": 19
        }
      ]
    },
    {
      "cell_type": "code",
      "source": [
        "#even or odd?\n",
        "print(10%2)\n",
        "print(11%2)"
      ],
      "metadata": {
        "colab": {
          "base_uri": "https://localhost:8080/"
        },
        "id": "h_m1UlI9PAb_",
        "outputId": "c7781107-1976-4d2a-f57c-1087724ff58d"
      },
      "execution_count": null,
      "outputs": [
        {
          "output_type": "stream",
          "name": "stdout",
          "text": [
            "0\n",
            "1\n"
          ]
        }
      ]
    },
    {
      "cell_type": "code",
      "source": [
        "#quotation (' ')(\" \")(\"\"\" \"\"\")\n",
        "\"Jin\""
      ],
      "metadata": {
        "colab": {
          "base_uri": "https://localhost:8080/",
          "height": 35
        },
        "id": "6UB_eFRbPHz2",
        "outputId": "c01ea326-0f85-4624-8557-848d55063bd2"
      },
      "execution_count": null,
      "outputs": [
        {
          "output_type": "execute_result",
          "data": {
            "text/plain": [
              "'Jin'"
            ],
            "application/vnd.google.colaboratory.intrinsic+json": {
              "type": "string"
            }
          },
          "metadata": {},
          "execution_count": 21
        }
      ]
    },
    {
      "cell_type": "code",
      "source": [
        "print(\"Jin\")"
      ],
      "metadata": {
        "colab": {
          "base_uri": "https://localhost:8080/"
        },
        "id": "aOLe-N-CPVYf",
        "outputId": "e34a4eac-125b-4cc5-eed9-883c355e5b72"
      },
      "execution_count": null,
      "outputs": [
        {
          "output_type": "stream",
          "name": "stdout",
          "text": [
            "Jin\n"
          ]
        }
      ]
    },
    {
      "cell_type": "code",
      "source": [
        "text = \"\"\" This is long.....\n",
        "long text\"\"\"\n",
        "print(text)"
      ],
      "metadata": {
        "colab": {
          "base_uri": "https://localhost:8080/"
        },
        "id": "Jr4fx2YvPXV_",
        "outputId": "f8489408-bbbe-449b-9537-036434883ffc"
      },
      "execution_count": null,
      "outputs": [
        {
          "output_type": "stream",
          "name": "stdout",
          "text": [
            " This is long.....\n",
            "long text\n"
          ]
        }
      ]
    },
    {
      "cell_type": "code",
      "source": [
        "type(\"Jin\")"
      ],
      "metadata": {
        "colab": {
          "base_uri": "https://localhost:8080/"
        },
        "id": "x-1aVN2wPjtE",
        "outputId": "b4838c97-b6b0-4bc7-94b0-3b6fa06290f0"
      },
      "execution_count": null,
      "outputs": [
        {
          "output_type": "execute_result",
          "data": {
            "text/plain": [
              "str"
            ]
          },
          "metadata": {},
          "execution_count": 24
        }
      ]
    },
    {
      "cell_type": "code",
      "source": [
        "print(\"Subscribe\"+\"Jin Box\"+\"!\")"
      ],
      "metadata": {
        "colab": {
          "base_uri": "https://localhost:8080/"
        },
        "id": "lg6vUYhpPlZF",
        "outputId": "9aebd0f2-495d-4f09-da0b-fcab457f0d44"
      },
      "execution_count": null,
      "outputs": [
        {
          "output_type": "stream",
          "name": "stdout",
          "text": [
            "SubscribeJin Box!\n"
          ]
        }
      ]
    },
    {
      "cell_type": "code",
      "source": [
        "print(\"-\"*10)"
      ],
      "metadata": {
        "colab": {
          "base_uri": "https://localhost:8080/"
        },
        "id": "zyMC7ZFgPrW7",
        "outputId": "864a667f-ac2d-44ed-ba94-0cad4b099f23"
      },
      "execution_count": null,
      "outputs": [
        {
          "output_type": "stream",
          "name": "stdout",
          "text": [
            "----------\n"
          ]
        }
      ]
    },
    {
      "cell_type": "code",
      "source": [
        "name = \"Jin\""
      ],
      "metadata": {
        "id": "vP3Nt3hZQKBM"
      },
      "execution_count": null,
      "outputs": []
    },
    {
      "cell_type": "code",
      "source": [
        "len(name)"
      ],
      "metadata": {
        "colab": {
          "base_uri": "https://localhost:8080/"
        },
        "id": "a7jV8Z1tQMAp",
        "outputId": "f82d28f8-80ae-4717-cce4-e47dfa0e9037"
      },
      "execution_count": null,
      "outputs": [
        {
          "output_type": "execute_result",
          "data": {
            "text/plain": [
              "3"
            ]
          },
          "metadata": {},
          "execution_count": 29
        }
      ]
    },
    {
      "cell_type": "code",
      "source": [
        "name[0]"
      ],
      "metadata": {
        "colab": {
          "base_uri": "https://localhost:8080/",
          "height": 35
        },
        "id": "lblz3RpfQMFR",
        "outputId": "41f41bb0-a00b-4149-acb2-a94692e0f51f"
      },
      "execution_count": null,
      "outputs": [
        {
          "output_type": "execute_result",
          "data": {
            "text/plain": [
              "'J'"
            ],
            "application/vnd.google.colaboratory.intrinsic+json": {
              "type": "string"
            }
          },
          "metadata": {},
          "execution_count": 30
        }
      ]
    },
    {
      "cell_type": "code",
      "source": [
        "name[1]"
      ],
      "metadata": {
        "colab": {
          "base_uri": "https://localhost:8080/",
          "height": 35
        },
        "id": "eHcNzZrsQQ10",
        "outputId": "a56d2679-47e8-4fb6-fcc6-b1c57404977a"
      },
      "execution_count": null,
      "outputs": [
        {
          "output_type": "execute_result",
          "data": {
            "text/plain": [
              "'i'"
            ],
            "application/vnd.google.colaboratory.intrinsic+json": {
              "type": "string"
            }
          },
          "metadata": {},
          "execution_count": 31
        }
      ]
    },
    {
      "cell_type": "code",
      "source": [
        "name[2]"
      ],
      "metadata": {
        "colab": {
          "base_uri": "https://localhost:8080/",
          "height": 35
        },
        "id": "a8TEcAgSQSME",
        "outputId": "be26dac8-1ba5-4e4e-a392-6a6afa911ea1"
      },
      "execution_count": null,
      "outputs": [
        {
          "output_type": "execute_result",
          "data": {
            "text/plain": [
              "'n'"
            ],
            "application/vnd.google.colaboratory.intrinsic+json": {
              "type": "string"
            }
          },
          "metadata": {},
          "execution_count": 32
        }
      ]
    },
    {
      "cell_type": "code",
      "source": [
        "name[-1]"
      ],
      "metadata": {
        "colab": {
          "base_uri": "https://localhost:8080/",
          "height": 35
        },
        "id": "MfOXHHy-QUZD",
        "outputId": "91b11234-45ef-4a21-fc7a-f75ef0a41d70"
      },
      "execution_count": null,
      "outputs": [
        {
          "output_type": "execute_result",
          "data": {
            "text/plain": [
              "'n'"
            ],
            "application/vnd.google.colaboratory.intrinsic+json": {
              "type": "string"
            }
          },
          "metadata": {},
          "execution_count": 33
        }
      ]
    },
    {
      "cell_type": "code",
      "source": [
        "type(name)"
      ],
      "metadata": {
        "colab": {
          "base_uri": "https://localhost:8080/"
        },
        "id": "3SDBZTPmQW24",
        "outputId": "04ef62ae-4e6c-4eb8-fa7f-84b66be46a2d"
      },
      "execution_count": null,
      "outputs": [
        {
          "output_type": "execute_result",
          "data": {
            "text/plain": [
              "str"
            ]
          },
          "metadata": {},
          "execution_count": 34
        }
      ]
    },
    {
      "cell_type": "code",
      "source": [
        "name[0:1]"
      ],
      "metadata": {
        "colab": {
          "base_uri": "https://localhost:8080/",
          "height": 35
        },
        "id": "AVlYzav8QdW0",
        "outputId": "71655221-b648-4f31-fbe3-ec52bab9c2dd"
      },
      "execution_count": null,
      "outputs": [
        {
          "output_type": "execute_result",
          "data": {
            "text/plain": [
              "'J'"
            ],
            "application/vnd.google.colaboratory.intrinsic+json": {
              "type": "string"
            }
          },
          "metadata": {},
          "execution_count": 35
        }
      ]
    },
    {
      "cell_type": "code",
      "source": [
        "name[0:2]"
      ],
      "metadata": {
        "colab": {
          "base_uri": "https://localhost:8080/",
          "height": 35
        },
        "id": "pd4FyTA4SqDp",
        "outputId": "a31d9ba1-8bd8-41b4-df48-fafcf558cd3b"
      },
      "execution_count": null,
      "outputs": [
        {
          "output_type": "execute_result",
          "data": {
            "text/plain": [
              "'Ji'"
            ],
            "application/vnd.google.colaboratory.intrinsic+json": {
              "type": "string"
            }
          },
          "metadata": {},
          "execution_count": 36
        }
      ]
    },
    {
      "cell_type": "code",
      "source": [
        "name[0:3]"
      ],
      "metadata": {
        "colab": {
          "base_uri": "https://localhost:8080/",
          "height": 35
        },
        "id": "COGzj-1VSsEt",
        "outputId": "8c41994d-269d-46ba-ed02-1294e3470efa"
      },
      "execution_count": null,
      "outputs": [
        {
          "output_type": "execute_result",
          "data": {
            "text/plain": [
              "'Jin'"
            ],
            "application/vnd.google.colaboratory.intrinsic+json": {
              "type": "string"
            }
          },
          "metadata": {},
          "execution_count": 37
        }
      ]
    },
    {
      "cell_type": "code",
      "source": [
        "name[:]"
      ],
      "metadata": {
        "colab": {
          "base_uri": "https://localhost:8080/",
          "height": 35
        },
        "id": "QenxgcMjSt8e",
        "outputId": "91287b62-217c-48f4-eea0-9a67d6c50422"
      },
      "execution_count": null,
      "outputs": [
        {
          "output_type": "execute_result",
          "data": {
            "text/plain": [
              "'Jin'"
            ],
            "application/vnd.google.colaboratory.intrinsic+json": {
              "type": "string"
            }
          },
          "metadata": {},
          "execution_count": 38
        }
      ]
    },
    {
      "cell_type": "code",
      "source": [
        "name[1:]"
      ],
      "metadata": {
        "colab": {
          "base_uri": "https://localhost:8080/",
          "height": 35
        },
        "id": "7mBUjre4Svgh",
        "outputId": "92bf60e8-6dcd-498c-9398-5f1ca0c0f7df"
      },
      "execution_count": null,
      "outputs": [
        {
          "output_type": "execute_result",
          "data": {
            "text/plain": [
              "'in'"
            ],
            "application/vnd.google.colaboratory.intrinsic+json": {
              "type": "string"
            }
          },
          "metadata": {},
          "execution_count": 39
        }
      ]
    },
    {
      "cell_type": "code",
      "source": [
        "name[:2]"
      ],
      "metadata": {
        "colab": {
          "base_uri": "https://localhost:8080/",
          "height": 35
        },
        "id": "PgwZ6o-sS0dy",
        "outputId": "945333ca-4c1a-4cad-f93f-06635d81e9ca"
      },
      "execution_count": null,
      "outputs": [
        {
          "output_type": "execute_result",
          "data": {
            "text/plain": [
              "'Ji'"
            ],
            "application/vnd.google.colaboratory.intrinsic+json": {
              "type": "string"
            }
          },
          "metadata": {},
          "execution_count": 40
        }
      ]
    },
    {
      "cell_type": "code",
      "source": [
        "True"
      ],
      "metadata": {
        "colab": {
          "base_uri": "https://localhost:8080/"
        },
        "id": "h6k0ZfycS2H5",
        "outputId": "b6a42d34-c7da-487d-87be-d292d5fe3d5c"
      },
      "execution_count": null,
      "outputs": [
        {
          "output_type": "execute_result",
          "data": {
            "text/plain": [
              "True"
            ]
          },
          "metadata": {},
          "execution_count": 41
        }
      ]
    },
    {
      "cell_type": "code",
      "source": [
        "False"
      ],
      "metadata": {
        "colab": {
          "base_uri": "https://localhost:8080/"
        },
        "id": "kwOTOf1jS6yo",
        "outputId": "b01eeab9-0575-4b67-b4aa-999496341078"
      },
      "execution_count": null,
      "outputs": [
        {
          "output_type": "execute_result",
          "data": {
            "text/plain": [
              "False"
            ]
          },
          "metadata": {},
          "execution_count": 42
        }
      ]
    },
    {
      "cell_type": "code",
      "source": [
        "1==2"
      ],
      "metadata": {
        "colab": {
          "base_uri": "https://localhost:8080/"
        },
        "id": "QPmU4UpUS63N",
        "outputId": "8fc46ce8-a654-4abe-a945-5a0ca85218f7"
      },
      "execution_count": null,
      "outputs": [
        {
          "output_type": "execute_result",
          "data": {
            "text/plain": [
              "False"
            ]
          },
          "metadata": {},
          "execution_count": 43
        }
      ]
    },
    {
      "cell_type": "code",
      "source": [
        "1==1"
      ],
      "metadata": {
        "colab": {
          "base_uri": "https://localhost:8080/"
        },
        "id": "3Vnbr8v2S67E",
        "outputId": "9455fad0-4cd4-4904-c657-0fced50dbb68"
      },
      "execution_count": null,
      "outputs": [
        {
          "output_type": "execute_result",
          "data": {
            "text/plain": [
              "True"
            ]
          },
          "metadata": {},
          "execution_count": 44
        }
      ]
    },
    {
      "cell_type": "code",
      "source": [
        "\"Jin\"==\"Jin Box\""
      ],
      "metadata": {
        "colab": {
          "base_uri": "https://localhost:8080/"
        },
        "id": "I0bRI6gkS6_A",
        "outputId": "0965aca2-9dd0-4eaa-a2ad-18205fc8a62c"
      },
      "execution_count": null,
      "outputs": [
        {
          "output_type": "execute_result",
          "data": {
            "text/plain": [
              "False"
            ]
          },
          "metadata": {},
          "execution_count": 45
        }
      ]
    },
    {
      "cell_type": "markdown",
      "source": [
        "list\n",
        "create/ 생성\n",
        " can contain every data types/ 모든 데이터 타입을 담을 수 있어요."
      ],
      "metadata": {
        "id": "ym1OTeuUTges"
      }
    },
    {
      "cell_type": "code",
      "source": [
        "x = [\"Jin Box\", True, 100000]\n",
        "type(x)"
      ],
      "metadata": {
        "colab": {
          "base_uri": "https://localhost:8080/"
        },
        "id": "id_uTE6oS7C9",
        "outputId": "39492624-468e-48f2-ca86-6f969368b99a"
      },
      "execution_count": null,
      "outputs": [
        {
          "output_type": "execute_result",
          "data": {
            "text/plain": [
              "list"
            ]
          },
          "metadata": {},
          "execution_count": 46
        }
      ]
    },
    {
      "cell_type": "markdown",
      "source": [
        "add/ 추가\n",
        "append"
      ],
      "metadata": {
        "id": "ChJoB5W0UBgJ"
      }
    },
    {
      "cell_type": "code",
      "source": [
        "x.append([1.,2.,3.])"
      ],
      "metadata": {
        "id": "V7X4jQQ5S7G0"
      },
      "execution_count": null,
      "outputs": []
    },
    {
      "cell_type": "code",
      "source": [
        "x"
      ],
      "metadata": {
        "colab": {
          "base_uri": "https://localhost:8080/"
        },
        "id": "N0iH8GRxS7Kl",
        "outputId": "67708b5c-53d7-469b-a2e7-4d2e63c9a8b8"
      },
      "execution_count": null,
      "outputs": [
        {
          "output_type": "execute_result",
          "data": {
            "text/plain": [
              "['Jin Box', True, 100000, [1.0, 2.0, 3.0], [1.0, 2.0, 3.0]]"
            ]
          },
          "metadata": {},
          "execution_count": 49
        }
      ]
    },
    {
      "cell_type": "markdown",
      "source": [
        "delete/ 삭제\n",
        "remove"
      ],
      "metadata": {
        "id": "qvKMA83qUD9Q"
      }
    },
    {
      "cell_type": "code",
      "source": [
        "x.remove('Jin Box')"
      ],
      "metadata": {
        "id": "IIvGuKfST1pm"
      },
      "execution_count": null,
      "outputs": []
    },
    {
      "cell_type": "code",
      "source": [
        "x"
      ],
      "metadata": {
        "colab": {
          "base_uri": "https://localhost:8080/"
        },
        "id": "vgRnbVzmVLB8",
        "outputId": "b8fde28e-f233-4217-960d-f6cd0e1de038"
      },
      "execution_count": null,
      "outputs": [
        {
          "output_type": "execute_result",
          "data": {
            "text/plain": [
              "[True, 100000, [1.0, 2.0, 3.0], [1.0, 2.0, 3.0]]"
            ]
          },
          "metadata": {},
          "execution_count": 51
        }
      ]
    },
    {
      "cell_type": "markdown",
      "source": [
        "update/변경\n",
        "call element using \"index\"/ \"index\"로 요소를 부르자.\n",
        "index starts from ZERO/ index는 0부터 시작"
      ],
      "metadata": {
        "id": "6-nQ9Bl-VTh2"
      }
    },
    {
      "cell_type": "code",
      "source": [
        "x"
      ],
      "metadata": {
        "colab": {
          "base_uri": "https://localhost:8080/"
        },
        "id": "-KmbXkwSVLjA",
        "outputId": "89b21666-590f-4462-cfa2-51dcff4fa4bf"
      },
      "execution_count": null,
      "outputs": [
        {
          "output_type": "execute_result",
          "data": {
            "text/plain": [
              "[True, 100000, [1.0, 2.0, 3.0], [1.0, 2.0, 3.0]]"
            ]
          },
          "metadata": {},
          "execution_count": 52
        }
      ]
    },
    {
      "cell_type": "code",
      "source": [
        "x[0]"
      ],
      "metadata": {
        "colab": {
          "base_uri": "https://localhost:8080/"
        },
        "id": "H4uZgJJkVNTM",
        "outputId": "5ae628ac-e4d1-40a2-dd09-3f8a1dfcfbde"
      },
      "execution_count": null,
      "outputs": [
        {
          "output_type": "execute_result",
          "data": {
            "text/plain": [
              "True"
            ]
          },
          "metadata": {},
          "execution_count": 53
        }
      ]
    },
    {
      "cell_type": "code",
      "source": [
        "x[0]=False"
      ],
      "metadata": {
        "id": "kqQ9vcljVh7i"
      },
      "execution_count": null,
      "outputs": []
    },
    {
      "cell_type": "code",
      "source": [
        "x"
      ],
      "metadata": {
        "colab": {
          "base_uri": "https://localhost:8080/"
        },
        "id": "DawdSRDCVkv2",
        "outputId": "a2a9a44e-1956-4d7c-a8dc-3dfc1f1c79b7"
      },
      "execution_count": null,
      "outputs": [
        {
          "output_type": "execute_result",
          "data": {
            "text/plain": [
              "[False, 100000, [1.0, 2.0, 3.0], [1.0, 2.0, 3.0]]"
            ]
          },
          "metadata": {},
          "execution_count": 55
        }
      ]
    },
    {
      "cell_type": "markdown",
      "source": [
        "**Set**\n",
        "create/생성\n",
        "save unique data/값이 중복되지 않게 저장!"
      ],
      "metadata": {
        "id": "TGzkMi39VpnK"
      }
    },
    {
      "cell_type": "code",
      "source": [
        "x = {\"Jin\", \"Bill\", \"Elon\", \"Elon\"}\n",
        "x"
      ],
      "metadata": {
        "colab": {
          "base_uri": "https://localhost:8080/"
        },
        "id": "8nbNaEguVvhJ",
        "outputId": "ba21d4d6-ad98-4fca-c4de-17927d797add"
      },
      "execution_count": null,
      "outputs": [
        {
          "output_type": "execute_result",
          "data": {
            "text/plain": [
              "{'Bill', 'Elon', 'Jin'}"
            ]
          },
          "metadata": {},
          "execution_count": 57
        }
      ]
    },
    {
      "cell_type": "markdown",
      "source": [
        "add/ 추가\n",
        "add()"
      ],
      "metadata": {
        "id": "VSKa6IbWV5lW"
      }
    },
    {
      "cell_type": "code",
      "source": [
        "x.add(\"Sundar\")\n",
        "x"
      ],
      "metadata": {
        "colab": {
          "base_uri": "https://localhost:8080/"
        },
        "id": "99NiO4cgVxGg",
        "outputId": "14e5af2b-61b1-40db-a695-57849173e46f"
      },
      "execution_count": null,
      "outputs": [
        {
          "output_type": "execute_result",
          "data": {
            "text/plain": [
              "{'Bill', 'Elon', 'Jin', 'Sundar'}"
            ]
          },
          "metadata": {},
          "execution_count": 59
        }
      ]
    },
    {
      "cell_type": "markdown",
      "source": [
        "delete/삭제\n",
        "remove"
      ],
      "metadata": {
        "id": "otZjo17MWtVo"
      }
    },
    {
      "cell_type": "code",
      "source": [
        "x.remove(\"Sundar\")"
      ],
      "metadata": {
        "id": "5Zg_-cXVWsXx"
      },
      "execution_count": null,
      "outputs": []
    },
    {
      "cell_type": "code",
      "source": [
        "x"
      ],
      "metadata": {
        "colab": {
          "base_uri": "https://localhost:8080/"
        },
        "id": "w0qLvryoW2Po",
        "outputId": "6158f1e6-0b1f-4b4e-90a8-ac62ba74923f"
      },
      "execution_count": null,
      "outputs": [
        {
          "output_type": "execute_result",
          "data": {
            "text/plain": [
              "{'Bill', 'Elon', 'Jin'}"
            ]
          },
          "metadata": {},
          "execution_count": 61
        }
      ]
    },
    {
      "cell_type": "markdown",
      "source": [
        "# **Tuple**"
      ],
      "metadata": {
        "id": "iTv7UbGwW8zD"
      }
    },
    {
      "cell_type": "markdown",
      "source": [
        "create/ 생성\n",
        "creating 1 element tuple needs comma(,)/요소 1개의 튜플을 만들고 싶으면 꼭 쉼표를 써주세요."
      ],
      "metadata": {
        "id": "O6lTQH9uXBu3"
      }
    },
    {
      "cell_type": "code",
      "source": [
        "x=(1, 2, 3)\n",
        "type(x)"
      ],
      "metadata": {
        "colab": {
          "base_uri": "https://localhost:8080/"
        },
        "id": "8gn2j6c3XAo0",
        "outputId": "9f90acad-46d1-4228-bbdb-355b248712bf"
      },
      "execution_count": null,
      "outputs": [
        {
          "output_type": "execute_result",
          "data": {
            "text/plain": [
              "tuple"
            ]
          },
          "metadata": {},
          "execution_count": 63
        }
      ]
    },
    {
      "cell_type": "code",
      "source": [
        "x=(1)\n",
        "type(x)"
      ],
      "metadata": {
        "colab": {
          "base_uri": "https://localhost:8080/"
        },
        "id": "SMhoNlhOYSaj",
        "outputId": "9e7680b2-a242-4384-fd39-e2dd3bf8798d"
      },
      "execution_count": null,
      "outputs": [
        {
          "output_type": "execute_result",
          "data": {
            "text/plain": [
              "int"
            ]
          },
          "metadata": {},
          "execution_count": 64
        }
      ]
    },
    {
      "cell_type": "code",
      "source": [
        "x=(1,)\n",
        "type(x)"
      ],
      "metadata": {
        "colab": {
          "base_uri": "https://localhost:8080/"
        },
        "id": "pfI4wK6pYSdi",
        "outputId": "b9dc5202-89ca-4247-a048-0b28c301017a"
      },
      "execution_count": null,
      "outputs": [
        {
          "output_type": "execute_result",
          "data": {
            "text/plain": [
              "tuple"
            ]
          },
          "metadata": {},
          "execution_count": 65
        }
      ]
    },
    {
      "cell_type": "code",
      "source": [
        "x[0]"
      ],
      "metadata": {
        "colab": {
          "base_uri": "https://localhost:8080/"
        },
        "id": "IixdEjCVYSg6",
        "outputId": "bad3b4d3-7c6d-4c33-ed01-836d77b4a875"
      },
      "execution_count": null,
      "outputs": [
        {
          "output_type": "execute_result",
          "data": {
            "text/plain": [
              "1"
            ]
          },
          "metadata": {},
          "execution_count": 66
        }
      ]
    },
    {
      "cell_type": "code",
      "source": [
        "x[0]=2"
      ],
      "metadata": {
        "colab": {
          "base_uri": "https://localhost:8080/",
          "height": 185
        },
        "id": "86z3iipsYSkM",
        "outputId": "b71edd51-06c1-42f8-c4db-c79202d65ff4"
      },
      "execution_count": null,
      "outputs": [
        {
          "output_type": "error",
          "ename": "TypeError",
          "evalue": "ignored",
          "traceback": [
            "\u001b[0;31m---------------------------------------------------------------------------\u001b[0m",
            "\u001b[0;31mTypeError\u001b[0m                                 Traceback (most recent call last)",
            "\u001b[0;32m<ipython-input-67-a54a06fff06d>\u001b[0m in \u001b[0;36m<cell line: 1>\u001b[0;34m()\u001b[0m\n\u001b[0;32m----> 1\u001b[0;31m \u001b[0mx\u001b[0m\u001b[0;34m[\u001b[0m\u001b[0;36m0\u001b[0m\u001b[0;34m]\u001b[0m\u001b[0;34m=\u001b[0m\u001b[0;36m2\u001b[0m\u001b[0;34m\u001b[0m\u001b[0;34m\u001b[0m\u001b[0m\n\u001b[0m",
            "\u001b[0;31mTypeError\u001b[0m: 'tuple' object does not support item assignment"
          ]
        }
      ]
    },
    {
      "cell_type": "markdown",
      "source": [
        "이렇게 리스트에 값 부여 x"
      ],
      "metadata": {
        "id": "0VJa6oABY6-5"
      }
    },
    {
      "cell_type": "markdown",
      "source": [
        "# **Dictionary**"
      ],
      "metadata": {
        "id": "d8_Avr02ZCGm"
      }
    },
    {
      "cell_type": "markdown",
      "source": [
        "create/ 생성\n",
        "key : value"
      ],
      "metadata": {
        "id": "Y7Z1HOd1ZE9e"
      }
    },
    {
      "cell_type": "code",
      "source": [
        "x={\"name\":\"Jin\"}\n",
        "type(x)"
      ],
      "metadata": {
        "colab": {
          "base_uri": "https://localhost:8080/"
        },
        "id": "cxha8vHDYSmu",
        "outputId": "1532cdd5-766d-4b27-8dd4-048be834f03a"
      },
      "execution_count": null,
      "outputs": [
        {
          "output_type": "execute_result",
          "data": {
            "text/plain": [
              "dict"
            ]
          },
          "metadata": {},
          "execution_count": 68
        }
      ]
    },
    {
      "cell_type": "code",
      "source": [
        "x[\"name\"]"
      ],
      "metadata": {
        "colab": {
          "base_uri": "https://localhost:8080/",
          "height": 35
        },
        "id": "638CDVpvYSps",
        "outputId": "843d0750-9c67-4c70-fb45-91515cf6f8bc"
      },
      "execution_count": null,
      "outputs": [
        {
          "output_type": "execute_result",
          "data": {
            "text/plain": [
              "'Jin'"
            ],
            "application/vnd.google.colaboratory.intrinsic+json": {
              "type": "string"
            }
          },
          "metadata": {},
          "execution_count": 69
        }
      ]
    },
    {
      "cell_type": "markdown",
      "source": [
        "add/추가"
      ],
      "metadata": {
        "id": "8c_kHVyEZOKV"
      }
    },
    {
      "cell_type": "code",
      "source": [
        "x[\"age\"]=[19, 20, 25,27,29,32]"
      ],
      "metadata": {
        "id": "14VpXKBIZM7m"
      },
      "execution_count": null,
      "outputs": []
    },
    {
      "cell_type": "code",
      "source": [
        "x"
      ],
      "metadata": {
        "colab": {
          "base_uri": "https://localhost:8080/"
        },
        "id": "I7G1Rpx9ZM-O",
        "outputId": "9a222ff1-22a9-4f54-98dd-195cd0a74e76"
      },
      "execution_count": null,
      "outputs": [
        {
          "output_type": "execute_result",
          "data": {
            "text/plain": [
              "{'name': 'Jin', 'age': [19, 20, 25, 27, 29, 32]}"
            ]
          },
          "metadata": {},
          "execution_count": 71
        }
      ]
    },
    {
      "cell_type": "markdown",
      "source": [
        "delete/ 삭제"
      ],
      "metadata": {
        "id": "jZSKlrBLZa82"
      }
    },
    {
      "cell_type": "code",
      "source": [
        "del x[\"age\"]"
      ],
      "metadata": {
        "id": "NNsewe6VZNAx"
      },
      "execution_count": null,
      "outputs": []
    },
    {
      "cell_type": "code",
      "source": [
        "x"
      ],
      "metadata": {
        "colab": {
          "base_uri": "https://localhost:8080/"
        },
        "id": "0F3miolSZf7v",
        "outputId": "581acaa1-49bd-4518-fe34-6c7fa4837546"
      },
      "execution_count": null,
      "outputs": [
        {
          "output_type": "execute_result",
          "data": {
            "text/plain": [
              "{'name': 'Jin'}"
            ]
          },
          "metadata": {},
          "execution_count": 73
        }
      ]
    },
    {
      "cell_type": "markdown",
      "source": [
        "update/ 변경"
      ],
      "metadata": {
        "id": "u9uNjX6IZhB_"
      }
    },
    {
      "cell_type": "code",
      "source": [
        "x[\"name\"]=[\"Jin\", \"Bill\", \"Elon\"]"
      ],
      "metadata": {
        "id": "XGShunV_ZgYz"
      },
      "execution_count": null,
      "outputs": []
    },
    {
      "cell_type": "code",
      "source": [
        "x"
      ],
      "metadata": {
        "colab": {
          "base_uri": "https://localhost:8080/"
        },
        "id": "jz3Yvg3sZoZe",
        "outputId": "8aeec1ae-a516-4bb9-d90b-ed8226034e2f"
      },
      "execution_count": null,
      "outputs": [
        {
          "output_type": "execute_result",
          "data": {
            "text/plain": [
              "{'name': ['Jin', 'Bill', 'Elon']}"
            ]
          },
          "metadata": {},
          "execution_count": 75
        }
      ]
    },
    {
      "cell_type": "markdown",
      "source": [
        "# **Condition**"
      ],
      "metadata": {
        "id": "WlOsdiaoZ8md"
      }
    },
    {
      "cell_type": "markdown",
      "source": [
        "It's timefor \"boolean\"data type/\"Boolena\"데이터 타입이 빛을 바랄 차례\n",
        "\n",
        "\n",
        "추상화코드"
      ],
      "metadata": {
        "id": "V1V09NzHZ-Np"
      }
    },
    {
      "cell_type": "markdown",
      "source": [
        "if [조건 1]:\n",
        "   \n",
        "   \n",
        "    A코드"
      ],
      "metadata": {
        "id": "PWZJsZvkaIkb"
      }
    },
    {
      "cell_type": "markdown",
      "source": [
        "if [조건1]:\n",
        "\n",
        "  A코드\n",
        "\n",
        "elif [조건2]:\n",
        "\n",
        "  B코드\n",
        "else:\n",
        "\n",
        "C코드"
      ],
      "metadata": {
        "id": "4An-wcx1aNLg"
      }
    },
    {
      "cell_type": "markdown",
      "source": [
        "실제로는\n",
        "if [True]:\n",
        "\n",
        "A코드\n",
        "\n",
        "elif[True]:\n",
        "\n",
        "B코드\n",
        "\n",
        "else:\n",
        "\n",
        "C코드\n",
        "\n"
      ],
      "metadata": {
        "id": "nWffEZTaahm8"
      }
    },
    {
      "cell_type": "markdown",
      "source": [
        "# **Let's code**"
      ],
      "metadata": {
        "id": "BvQnR1Woasim"
      }
    },
    {
      "cell_type": "markdown",
      "source": [
        "52분\n",
        "\n",
        "조건1: 유저는 동영상에 좋아요 1번만 누를 수 있음\n",
        "\n",
        "조건 2:신고당한 유저의 좋아요는 좋아요 수에 반영하지 않음"
      ],
      "metadata": {
        "id": "DouoRXclbwy_"
      }
    },
    {
      "cell_type": "code",
      "source": [
        "user={\"name\":\"Elon\",\n",
        "\"like\":True,\n",
        "\"reported\":True}"
      ],
      "metadata": {
        "id": "Bj2HpMj-cl63"
      },
      "execution_count": null,
      "outputs": []
    },
    {
      "cell_type": "code",
      "source": [
        "if user[\"like\"]:\n",
        "  print(\"You already liked it!\")"
      ],
      "metadata": {
        "colab": {
          "base_uri": "https://localhost:8080/"
        },
        "id": "cwsHL59kcyYd",
        "outputId": "ef53088c-fd81-4ea5-d60d-2bd138cfc647"
      },
      "execution_count": null,
      "outputs": [
        {
          "output_type": "stream",
          "name": "stdout",
          "text": [
            "You already liked it!\n"
          ]
        }
      ]
    },
    {
      "cell_type": "code",
      "source": [
        "user[\"like\"]=False"
      ],
      "metadata": {
        "id": "Hb1UP1pJc5to"
      },
      "execution_count": null,
      "outputs": []
    },
    {
      "cell_type": "code",
      "source": [
        "if user[\"like\"]:\n",
        "  print(\"You already liked it!\")\n",
        "elif user[\"reported\"]:\n",
        "  print(\"Reported user cannot click like button\")"
      ],
      "metadata": {
        "colab": {
          "base_uri": "https://localhost:8080/"
        },
        "id": "LXMgo9u1c8vy",
        "outputId": "8aa8ba2a-42d9-4f0e-9b7d-d69d8ebbbbb0"
      },
      "execution_count": null,
      "outputs": [
        {
          "output_type": "stream",
          "name": "stdout",
          "text": [
            "Reported user cannot click like button\n"
          ]
        }
      ]
    },
    {
      "cell_type": "code",
      "source": [
        "user[\"reported\"]=False"
      ],
      "metadata": {
        "id": "s1A2rqFEdNbr"
      },
      "execution_count": null,
      "outputs": []
    },
    {
      "cell_type": "code",
      "source": [
        "if user[\"like\"]:\n",
        "  print(\"You already liked it!\")\n",
        "elif user[\"reported\"]:\n",
        "  print(\"Reported user cannot click like button\")\n",
        "else:\n",
        "  print(\"Increase 1 like\")"
      ],
      "metadata": {
        "colab": {
          "base_uri": "https://localhost:8080/"
        },
        "id": "wMzcR6GUdSWy",
        "outputId": "a3397baf-5100-44fa-95d3-bc5357e0fbac"
      },
      "execution_count": null,
      "outputs": [
        {
          "output_type": "stream",
          "name": "stdout",
          "text": [
            "Increase 1 like\n"
          ]
        }
      ]
    },
    {
      "cell_type": "markdown",
      "source": [
        "# **비교연산자를 사용해볼까요?(Let's use comparison operator!)**"
      ],
      "metadata": {
        "id": "hokoWB9cdlv_"
      }
    },
    {
      "cell_type": "code",
      "source": [
        "user"
      ],
      "metadata": {
        "colab": {
          "base_uri": "https://localhost:8080/"
        },
        "id": "0SqSvwyydqtv",
        "outputId": "0e5ac12d-f152-4934-bc56-7ca32da0d4e2"
      },
      "execution_count": null,
      "outputs": [
        {
          "output_type": "execute_result",
          "data": {
            "text/plain": [
              "{'name': 'Elon', 'like': False, 'reported': False}"
            ]
          },
          "metadata": {},
          "execution_count": 89
        }
      ]
    },
    {
      "cell_type": "code",
      "source": [
        "user[\"like\"]=0"
      ],
      "metadata": {
        "id": "GP1sZ3BYeHkq"
      },
      "execution_count": null,
      "outputs": []
    },
    {
      "cell_type": "code",
      "source": [
        "user[\"like\"]>0"
      ],
      "metadata": {
        "colab": {
          "base_uri": "https://localhost:8080/"
        },
        "id": "pUHfIL6GeMKX",
        "outputId": "8f486408-6c33-4462-94f6-c4b3e3eb3708"
      },
      "execution_count": null,
      "outputs": [
        {
          "output_type": "execute_result",
          "data": {
            "text/plain": [
              "False"
            ]
          },
          "metadata": {},
          "execution_count": 91
        }
      ]
    },
    {
      "cell_type": "code",
      "source": [
        "if user[\"like\"]>0:\n",
        "  print(\"You already liked it!\")\n",
        "elif user[\"reported\"]:\n",
        "  print(\"Reported user cannot click like button\")\n",
        "else:\n",
        "  print(\"Increase 1 like\")"
      ],
      "metadata": {
        "colab": {
          "base_uri": "https://localhost:8080/"
        },
        "id": "ce1mWJL4ePg5",
        "outputId": "b6f672ce-60ba-432b-be7e-5e20a81a9434"
      },
      "execution_count": null,
      "outputs": [
        {
          "output_type": "stream",
          "name": "stdout",
          "text": [
            "Increase 1 like\n"
          ]
        }
      ]
    },
    {
      "cell_type": "markdown",
      "source": [
        "# **함수로 만들어볼까요?(Make it to function!)**"
      ],
      "metadata": {
        "id": "uguhSET1ecsg"
      }
    },
    {
      "cell_type": "code",
      "source": [
        "def count_likes(user):\n",
        "  if user[\"like\"]>0:\n",
        "    print(\"You already liked it!\")\n",
        "  elif user[\"reported\"]:\n",
        "    print(\"Reported user cannot click like button\")\n",
        "  else:\n",
        "    print(\"Increase 1 like\")\n",
        "    user[\"like\"]=user[\"like\"]+1\n",
        "\n",
        "  return user"
      ],
      "metadata": {
        "id": "w8CJhpJpekdh"
      },
      "execution_count": null,
      "outputs": []
    },
    {
      "cell_type": "code",
      "source": [
        "user"
      ],
      "metadata": {
        "colab": {
          "base_uri": "https://localhost:8080/"
        },
        "id": "8rdhFHwfe0p9",
        "outputId": "036bd25e-6a2d-472e-be6c-ac093c04f53b"
      },
      "execution_count": null,
      "outputs": [
        {
          "output_type": "execute_result",
          "data": {
            "text/plain": [
              "{'name': 'Elon', 'like': 0, 'reported': False}"
            ]
          },
          "metadata": {},
          "execution_count": 95
        }
      ]
    },
    {
      "cell_type": "code",
      "source": [
        "user = count_likes(user)"
      ],
      "metadata": {
        "colab": {
          "base_uri": "https://localhost:8080/"
        },
        "id": "y74LSQBCe-_W",
        "outputId": "21211a57-64be-4c3b-b1d2-62332c470a6d"
      },
      "execution_count": null,
      "outputs": [
        {
          "output_type": "stream",
          "name": "stdout",
          "text": [
            "Increase 1 like\n"
          ]
        }
      ]
    },
    {
      "cell_type": "code",
      "source": [
        "user"
      ],
      "metadata": {
        "colab": {
          "base_uri": "https://localhost:8080/"
        },
        "id": "lVu0Hl5LfCK3",
        "outputId": "bb025aa2-1e77-48fa-da54-aa08f7235064"
      },
      "execution_count": null,
      "outputs": [
        {
          "output_type": "execute_result",
          "data": {
            "text/plain": [
              "{'name': 'Elon', 'like': 1, 'reported': False}"
            ]
          },
          "metadata": {},
          "execution_count": 99
        }
      ]
    },
    {
      "cell_type": "markdown",
      "source": [
        "# **Loop**"
      ],
      "metadata": {
        "id": "RYTaoPqrgNwC"
      }
    },
    {
      "cell_type": "markdown",
      "source": [
        "# **for**"
      ],
      "metadata": {
        "id": "BcOL29RwgRMi"
      }
    },
    {
      "cell_type": "markdown",
      "source": [
        "collection(list, tuple, set, dictionary)의 요소를 하나씩 순회하면서 변수에 담습니다.\n",
        "\n",
        " for[변수] in [Collections or string]:\n",
        "\n",
        " code"
      ],
      "metadata": {
        "id": "_D5w-tTmgS1P"
      }
    },
    {
      "cell_type": "markdown",
      "source": [
        "# **While**"
      ],
      "metadata": {
        "id": "wdkCvDZSggv3"
      }
    },
    {
      "cell_type": "markdown",
      "source": [
        "조건문이 참일 경우, code를 반복적으로 실행합니다.\n",
        "\n",
        "While [True]:\n",
        "\n",
        "code"
      ],
      "metadata": {
        "id": "CWlBWdxjgpmy"
      }
    },
    {
      "cell_type": "markdown",
      "source": [
        "# **Control**"
      ],
      "metadata": {
        "id": "1jtEcMUSgprd"
      }
    },
    {
      "cell_type": "markdown",
      "source": [
        "반복을 제어할 수 있는 두가지 키워드!\n",
        "continue\n",
        "\n",
        "\"이번만,(내 밑에 있는 코드는 실행하지 말고)지나가줘\"\n",
        "\n",
        "\n",
        "break\n",
        "\n",
        "\"반복문을 종료해줘\"\n",
        "\n"
      ],
      "metadata": {
        "id": "n8OqeEIKg5AA"
      }
    },
    {
      "cell_type": "markdown",
      "source": [
        "# **for loop**"
      ],
      "metadata": {
        "id": "bP0CFSEghEps"
      }
    },
    {
      "cell_type": "code",
      "source": [
        "user1= {\"name\":\"Elon\",\"like\":1, \"reported\": True}\n",
        "user2= {\"name\":\"Steve\",\"like\":5, \"reported\": False}\n",
        "user3= {\"name\":\"Bill\",\"like\":2, \"reported\": False}\n",
        "user4= {\"name\":\"Sundar\",\"like\":0, \"reported\": False}\n",
        "subscribers = [user1, user2, user3, user4]"
      ],
      "metadata": {
        "id": "QiV0vjAchHb9"
      },
      "execution_count": null,
      "outputs": []
    },
    {
      "cell_type": "code",
      "source": [
        "for user in subscribers:\n",
        "  print(\"Subscriber Name: \", user[\"name\"])"
      ],
      "metadata": {
        "colab": {
          "base_uri": "https://localhost:8080/"
        },
        "id": "zx9r02yuhrve",
        "outputId": "58e445fe-2136-4009-a5ae-59d95029f30c"
      },
      "execution_count": null,
      "outputs": [
        {
          "output_type": "stream",
          "name": "stdout",
          "text": [
            "Subscriber Name:  Elon\n",
            "Subscriber Name:  Steve\n",
            "Subscriber Name:  Bill\n",
            "Subscriber Name:  Sundar\n"
          ]
        }
      ]
    },
    {
      "cell_type": "code",
      "source": [
        "#(조건) 신고 당한 유저는 출력하지 않는다\n",
        "for uswer in subscribers:\n",
        "\n",
        "  if user[\"reported\"]:\n",
        "    continue\n",
        "\n",
        "  print(\"Subscriber Name: \", user[\"name\"])\n"
      ],
      "metadata": {
        "colab": {
          "base_uri": "https://localhost:8080/"
        },
        "id": "yDvwFAIEiP0P",
        "outputId": "1379ebd0-a763-4998-b37a-1fd2e7784329"
      },
      "execution_count": null,
      "outputs": [
        {
          "output_type": "stream",
          "name": "stdout",
          "text": [
            "Subscriber Name:  Sundar\n",
            "Subscriber Name:  Sundar\n",
            "Subscriber Name:  Sundar\n",
            "Subscriber Name:  Sundar\n"
          ]
        }
      ]
    },
    {
      "cell_type": "markdown",
      "source": [
        "# **while loop**"
      ],
      "metadata": {
        "id": "M1v8o1bviktg"
      }
    },
    {
      "cell_type": "code",
      "source": [
        "#x에 반복적으로 1을 더하기\n",
        "x=0\n",
        "while x<5:\n",
        "  x=x+1\n",
        "  #x+1\n",
        "  print(\"x:\",x)"
      ],
      "metadata": {
        "colab": {
          "base_uri": "https://localhost:8080/"
        },
        "id": "BFD4qz34ipQZ",
        "outputId": "92b1be2c-3dca-4afb-b7ab-3c7f0fdfeb83"
      },
      "execution_count": null,
      "outputs": [
        {
          "output_type": "stream",
          "name": "stdout",
          "text": [
            "x: 1\n",
            "x: 2\n",
            "x: 3\n",
            "x: 4\n",
            "x: 5\n"
          ]
        }
      ]
    },
    {
      "cell_type": "code",
      "source": [
        "#무한 루프 = break\n",
        "x=0\n",
        "while True:\n",
        "  if x==5:\n",
        "    break\n",
        "  x+=1\n",
        "  print(\"x: \",x)"
      ],
      "metadata": {
        "colab": {
          "base_uri": "https://localhost:8080/"
        },
        "id": "tVvaG_6mi2h2",
        "outputId": "d5f9ed43-93e1-42c0-eb4e-e2d87941d3d1"
      },
      "execution_count": null,
      "outputs": [
        {
          "output_type": "stream",
          "name": "stdout",
          "text": [
            "x:  1\n",
            "x:  2\n",
            "x:  3\n",
            "x:  4\n",
            "x:  5\n"
          ]
        }
      ]
    },
    {
      "cell_type": "markdown",
      "source": [
        "# **[도전]**"
      ],
      "metadata": {
        "id": "eeZKZzmzjJzK"
      }
    },
    {
      "cell_type": "markdown",
      "source": [
        "Q: 신고 당하지 않은 구독자 2명의 이름을 출력해볼까요?\n",
        "\n",
        "조건 1 : 신고 당하지 않은 유저만 출력한다.\n",
        "\n",
        "조건2 : 조건1을 만족하는 유저 2명을 출력했으면 loop를 빠져나온다."
      ],
      "metadata": {
        "id": "FDXfJa2rjLeZ"
      }
    },
    {
      "cell_type": "markdown",
      "source": [
        "HELP : user_count라는 변수를 생성해서 지금까지 출력한 구독자 수를 저장해 봅시다. while의 조건문은 이 user_count라는 변수를 이용해 만들어 봐요."
      ],
      "metadata": {
        "id": "Be3tQ9dajdb0"
      }
    },
    {
      "cell_type": "markdown",
      "source": [
        "HELP: 구독자 리스트인 subscribers변수를 순회해야 합니다. 순회할 때는 리스트의 인덱스(숫자)를 i라는 변수에 담아봐요."
      ],
      "metadata": {
        "id": "uWBOnpdxjqHn"
      }
    },
    {
      "cell_type": "markdown",
      "source": [
        "HELP: 출력문은 이렇게 만들어봐요. :Subscribers Count : (숫자) Name: (문자)\""
      ],
      "metadata": {
        "id": "PjANnZ4ajzf2"
      }
    },
    {
      "cell_type": "code",
      "source": [
        "#[조건] 신고 당하지 않은 구독자 2명을 출력하기\n",
        "user_count = 0\n",
        "i=0\n",
        "while user_count <2:\n",
        "\n",
        "  if subscribers[i]['reported']==False:\n",
        "    print(\"Subscriber Count: \", user_count, \"Name: \", subscribers[i][\"name\"])\n",
        "    user_count+=1\n",
        "  i+=1"
      ],
      "metadata": {
        "colab": {
          "base_uri": "https://localhost:8080/"
        },
        "id": "fkl1NmHIj8te",
        "outputId": "533bbc33-4453-4739-cf91-42f2454e5e0b"
      },
      "execution_count": null,
      "outputs": [
        {
          "output_type": "stream",
          "name": "stdout",
          "text": [
            "Subscriber Count:  0 Name:  Steve\n",
            "Subscriber Count:  1 Name:  Bill\n"
          ]
        }
      ]
    },
    {
      "cell_type": "markdown",
      "source": [
        "# **Function**"
      ],
      "metadata": {
        "id": "XaN89NRYnuKm"
      }
    },
    {
      "cell_type": "markdown",
      "source": [
        "함수 정의\n",
        "\n",
        " def [함수명] (parameters):\n",
        "\n",
        "   code\n",
        "\n",
        "Parameter (매개변수)\n",
        "\n",
        "    함수 내에서 사용할 변수 ([주의]함수 밖에서는 사용할 수 없음!!!)\n",
        "\n",
        "Argument (전달 인자)\n",
        "   parameter로 전달된     "
      ],
      "metadata": {
        "id": "aiqPDVGonwHT"
      }
    },
    {
      "cell_type": "code",
      "source": [
        "#함수 명 : briefing\n",
        "#Parameter: user_names\n",
        "#Argument: liked_users\n",
        "\n",
        "def briefing(user_names):\n",
        "  \"\"\"\n",
        "  좋아요를 누른 유저 명 출력하기\n",
        "  -user_names [list] : 좋아요를 누른 유저 이름 리스트\n",
        "  \"\"\"\n",
        "  if len(user_names)>0:\n",
        "    for user in user_names:\n",
        "      print(user, \"hit like button!\")\n",
        "  else:\n",
        "    print(\"No one hit like button : (\")\n",
        "\n",
        "liked_users = [\"Elon\", \"Steve\"]\n",
        "briefing(liked_users)"
      ],
      "metadata": {
        "colab": {
          "base_uri": "https://localhost:8080/"
        },
        "id": "nftUHQe6oF2r",
        "outputId": "fbfd7698-e39e-4dc1-9497-97224b221ad4"
      },
      "execution_count": null,
      "outputs": [
        {
          "output_type": "stream",
          "name": "stdout",
          "text": [
            "Elon hit like button!\n",
            "Steve hit like button!\n"
          ]
        }
      ]
    },
    {
      "cell_type": "markdown",
      "source": [
        "일반적으로 함수 실행시, parameter에 값을 반드시 입력해야 함. 아니면 ERROR!\n",
        "\n",
        "Default Parameter\n",
        "\n",
        "  Argument가 입력되지 않을 시, 대신 실행되는 (기본)값"
      ],
      "metadata": {
        "id": "fPB5Z0DPoz98"
      }
    },
    {
      "cell_type": "code",
      "source": [
        "bfriefing()"
      ],
      "metadata": {
        "colab": {
          "base_uri": "https://localhost:8080/",
          "height": 185
        },
        "id": "hNJbriZLpAcS",
        "outputId": "b584754b-e102-4a07-d8f5-a11e1a96c1ca"
      },
      "execution_count": null,
      "outputs": [
        {
          "output_type": "error",
          "ename": "NameError",
          "evalue": "ignored",
          "traceback": [
            "\u001b[0;31m---------------------------------------------------------------------------\u001b[0m",
            "\u001b[0;31mNameError\u001b[0m                                 Traceback (most recent call last)",
            "\u001b[0;32m<ipython-input-19-be5df4d9d832>\u001b[0m in \u001b[0;36m<cell line: 1>\u001b[0;34m()\u001b[0m\n\u001b[0;32m----> 1\u001b[0;31m \u001b[0mbfriefing\u001b[0m\u001b[0;34m(\u001b[0m\u001b[0;34m)\u001b[0m\u001b[0;34m\u001b[0m\u001b[0;34m\u001b[0m\u001b[0m\n\u001b[0m",
            "\u001b[0;31mNameError\u001b[0m: name 'bfriefing' is not defined"
          ]
        }
      ]
    },
    {
      "cell_type": "markdown",
      "source": [
        "**이렇게 에러가 나온다.**"
      ],
      "metadata": {
        "id": "FU7-KMhmpERW"
      }
    },
    {
      "cell_type": "code",
      "source": [
        "def briefing(user_names=[]):\n",
        "  if len(user_names)>0:\n",
        "    for user in user_names:\n",
        "      print(user, \"hit like button!\")\n",
        "  else:\n",
        "    print(\"No one hit like button:(\")\n",
        "\n",
        "briefing()"
      ],
      "metadata": {
        "colab": {
          "base_uri": "https://localhost:8080/"
        },
        "id": "VSczdMWSpGL9",
        "outputId": "66c93430-6f77-4d0e-fef4-ff747af17e77"
      },
      "execution_count": null,
      "outputs": [
        {
          "output_type": "stream",
          "name": "stdout",
          "text": [
            "No one hit like button:(\n"
          ]
        }
      ]
    },
    {
      "cell_type": "markdown",
      "source": [
        "Argument 입력 시 순서가 중요! 그래서 이를 Positional Argument라고 부름. 만약 파라미터 개수가 10+? 순서를 어떻게 기억?\n",
        "\n",
        "keyword Argument\n",
        "\n",
        " parameter = (argument) value 직접 맵핑\n",
        "\n",
        " 파리미터 순서를 따르지 않아도 됨\n",
        "\n",
        " [주의]keyword argument는 항상 제일 마지막에 입력!"
      ],
      "metadata": {
        "id": "Elz1gHfipjFg"
      }
    },
    {
      "cell_type": "code",
      "source": [
        "def briefing(user_like_histories, user_names=[]):\n",
        "  \"\"\"\n",
        "  좋아요를 누른 유저 명 출력하고 유저 히스토리를 업데이트 하기\n",
        "  -use_like_histories [dict] : 우저 이름(key)과 좋아요 누른  총 개수(value) 딕셔너리\n",
        "  -user_names [list]; 좋아요를 누른 유저 이름 리스트\n",
        "  \"\"\"\n",
        "  if len(user_names)>0:\n",
        "    for user in user_names:\n",
        "      print(user, \"hit like button!\")\n",
        "      user_like_histories[user]+=1\n",
        "      print(user, \"totla likes:\", user_like_histories[user])\n",
        "  else:\n",
        "    print(\"No one hit like button:(\")\n",
        "\n",
        "#유저가 내 동영상에 좋아요 누를 수를 기록\n",
        "user_like_histories = {\"Elon\" : 1, \"Steve\":5, \"Bill\":2, \"Sundar\":0}\n",
        "briefing(user_names=liked_users, user_like_histories = user_like_histories)"
      ],
      "metadata": {
        "colab": {
          "base_uri": "https://localhost:8080/"
        },
        "id": "6wWbmE7np5eM",
        "outputId": "82b1b6b0-2816-4e26-f073-a032715402fc"
      },
      "execution_count": null,
      "outputs": [
        {
          "output_type": "stream",
          "name": "stdout",
          "text": [
            "Elon hit like button!\n",
            "Elon totla likes: 2\n",
            "Steve hit like button!\n",
            "Steve totla likes: 6\n"
          ]
        }
      ]
    },
    {
      "cell_type": "code",
      "source": [
        "briefing(user_names=liked_users, user_like_histories)"
      ],
      "metadata": {
        "colab": {
          "base_uri": "https://localhost:8080/",
          "height": 148
        },
        "id": "1csJYwghrR8u",
        "outputId": "890ca39c-3eff-41ac-964d-09b901287787"
      },
      "execution_count": null,
      "outputs": [
        {
          "output_type": "error",
          "ename": "SyntaxError",
          "evalue": "ignored",
          "traceback": [
            "\u001b[0;36m  File \u001b[0;32m\"<ipython-input-22-2772cbcd86c0>\"\u001b[0;36m, line \u001b[0;32m1\u001b[0m\n\u001b[0;31m    briefing(user_names=liked_users, user_like_histories)\u001b[0m\n\u001b[0m                                                        ^\u001b[0m\n\u001b[0;31mSyntaxError\u001b[0m\u001b[0;31m:\u001b[0m positional argument follows keyword argument\n"
          ]
        }
      ]
    },
    {
      "cell_type": "markdown",
      "source": [
        "이렇게 에러가 나옴"
      ],
      "metadata": {
        "id": "F3DAQauUra_c"
      }
    },
    {
      "cell_type": "code",
      "source": [
        "briefing(user_like_histories)"
      ],
      "metadata": {
        "colab": {
          "base_uri": "https://localhost:8080/"
        },
        "id": "qavpGyVDrcl7",
        "outputId": "b478d31c-8879-4324-cce4-059585ab2972"
      },
      "execution_count": null,
      "outputs": [
        {
          "output_type": "stream",
          "name": "stdout",
          "text": [
            "No one hit like button:(\n"
          ]
        }
      ]
    },
    {
      "cell_type": "code",
      "source": [
        "def count_likes(user_names=[1]):\n",
        "  return len(user_names)"
      ],
      "metadata": {
        "id": "ZgsC_dfZrnn5"
      },
      "execution_count": null,
      "outputs": []
    },
    {
      "cell_type": "code",
      "source": [
        "counts = count_likes(liked_users)"
      ],
      "metadata": {
        "id": "ihlZ8rtMrw71"
      },
      "execution_count": null,
      "outputs": []
    },
    {
      "cell_type": "code",
      "source": [
        "print(counts)"
      ],
      "metadata": {
        "colab": {
          "base_uri": "https://localhost:8080/"
        },
        "id": "JubymDVfr1po",
        "outputId": "adc802f8-5404-4dd7-df9d-75f7f9f27cad"
      },
      "execution_count": null,
      "outputs": [
        {
          "output_type": "stream",
          "name": "stdout",
          "text": [
            "2\n"
          ]
        }
      ]
    },
    {
      "cell_type": "code",
      "source": [
        "counts"
      ],
      "metadata": {
        "colab": {
          "base_uri": "https://localhost:8080/"
        },
        "id": "GbrEh5J_r3jn",
        "outputId": "e014380a-0526-4ea4-be14-9a56fffa6ad3"
      },
      "execution_count": null,
      "outputs": [
        {
          "output_type": "execute_result",
          "data": {
            "text/plain": [
              "2"
            ]
          },
          "metadata": {},
          "execution_count": 29
        }
      ]
    },
    {
      "cell_type": "markdown",
      "source": [
        "# **Instance**"
      ],
      "metadata": {
        "id": "fqSrsVqJsEIa"
      }
    },
    {
      "cell_type": "markdown",
      "source": [
        "인스턴스는 클래스에 실제 데이터를 입력한 객체\n",
        "\n",
        "하나의 클래스에서 무수히 많은 인스턴스를 생성할 수 있음\n",
        "\n",
        "인스턴스 마다 attribute 값이 다를 수 있음\n",
        "\n",
        "인스턴스 생성\n",
        "\n",
        "beagle= Dpg()\n",
        "maltese = Dog()\n",
        "\n",
        "클래스의 attribute, method에 접근\n",
        "\n",
        "attribute\n",
        "\n",
        "beagle.breed\n",
        "#beagle\n",
        "\n",
        "method\n",
        "\n",
        "maltese.sniff()\n",
        "\n",
        "#킁킁"
      ],
      "metadata": {
        "id": "cjk664KXsF4q"
      }
    },
    {
      "cell_type": "markdown",
      "source": [
        "# **Self**"
      ],
      "metadata": {
        "id": "WXhwiC4gtMGi"
      }
    },
    {
      "cell_type": "markdown",
      "source": [
        "클래스의 attribute나 method에 반드시 self키워드를 입력해야 함\n",
        "self는 인스턴스를 의미함\n",
        "\n"
      ],
      "metadata": {
        "id": "z-IdFjaLtOGT"
      }
    },
    {
      "cell_type": "markdown",
      "source": [
        "**Method 정의**"
      ],
      "metadata": {
        "id": "GoFpEiSJtT5b"
      }
    },
    {
      "cell_type": "markdown",
      "source": [
        "첫 번째 파라미터는 반드시 self를 입력\n",
        "\n",
        "class ClassName:\n",
        "\n",
        "def method_name(self, parameters):\n",
        "\n",
        "pass"
      ],
      "metadata": {
        "id": "wstHxg18tW5X"
      }
    },
    {
      "cell_type": "code",
      "source": [
        "class Dog:\n",
        "\n",
        "  def sniff(self, sound:str):\n",
        "    print(sound * 5)"
      ],
      "metadata": {
        "id": "AQ3PEOXctgvg"
      },
      "execution_count": null,
      "outputs": []
    },
    {
      "cell_type": "code",
      "source": [
        "#Dog 클래스의 인스턴스 생성\n",
        "maltese = Dog()"
      ],
      "metadata": {
        "id": "IzreytFHtpOK"
      },
      "execution_count": null,
      "outputs": []
    },
    {
      "cell_type": "code",
      "source": [
        "#\",\"로 method 실행 가능\n",
        "maltese.sniff(sound = \"킁\")"
      ],
      "metadata": {
        "colab": {
          "base_uri": "https://localhost:8080/"
        },
        "id": "1IS9Gmrmttd1",
        "outputId": "697bfb2e-98be-4f52-e935-357505dc2a38"
      },
      "execution_count": null,
      "outputs": [
        {
          "output_type": "stream",
          "name": "stdout",
          "text": [
            "킁킁킁킁킁\n"
          ]
        }
      ]
    },
    {
      "cell_type": "markdown",
      "source": [
        "# **Attribute 정의**"
      ],
      "metadata": {
        "id": "_mkhAguVuGNL"
      }
    },
    {
      "cell_type": "markdown",
      "source": [
        "클래스에 데이터를 입력하기 위해서는 __init__()메소드를 사용\n",
        "\n",
        "__init__()메소드는 인스턴스가 생성될 때 가장 먼저 실행되는 메소드, 따라서 생성자(Constructor)라고도 함.\n",
        "\n",
        "attribute 앞에 self를 입력\n",
        "\n",
        "class ClassName:\n",
        "\n",
        "def __init__(self, value:str):\n",
        "self.attributel = valuel"
      ],
      "metadata": {
        "id": "Ra0_MS5xuIXS"
      }
    },
    {
      "cell_type": "code",
      "source": [
        "class Dog:\n",
        "\n",
        "  def __init__(self, name:str):\n",
        "    self.name = name\n",
        "\n",
        "  def sniff(self, sound:str):\n",
        "    print(f\"{self.name}가 이렇게 냄새를 맡는다: {sound*5}\")"
      ],
      "metadata": {
        "id": "kdua0ZxDuiVN"
      },
      "execution_count": null,
      "outputs": []
    },
    {
      "cell_type": "code",
      "source": [
        "#Dog 클래스의 인스턴스 생성\n",
        "beagle = Dog(name=\"초코\")\n",
        "maltese = Dog(name=\"대왕\")"
      ],
      "metadata": {
        "id": "ODdp3Dmtuz5S"
      },
      "execution_count": null,
      "outputs": []
    },
    {
      "cell_type": "code",
      "source": [
        "#\".\"로 attribute 접근 가능\n",
        "print(beagle.name)\n",
        "print(maltese.name)"
      ],
      "metadata": {
        "colab": {
          "base_uri": "https://localhost:8080/"
        },
        "id": "Bqz6ecbXu_3i",
        "outputId": "71ab4634-118e-47a9-a52e-097d8de8d4da"
      },
      "execution_count": null,
      "outputs": [
        {
          "output_type": "stream",
          "name": "stdout",
          "text": [
            "초코\n",
            "대왕\n"
          ]
        }
      ]
    },
    {
      "cell_type": "code",
      "source": [
        "#\".\"로 method 접근 가능\n",
        "\n",
        "beagle.sniff(\"컹\")\n",
        "maltese.sniff(\"왕\")"
      ],
      "metadata": {
        "colab": {
          "base_uri": "https://localhost:8080/"
        },
        "id": "FGFMy8SvvIvU",
        "outputId": "ad80b82f-c18a-4b44-a54b-5700e8625036"
      },
      "execution_count": null,
      "outputs": [
        {
          "output_type": "stream",
          "name": "stdout",
          "text": [
            "초코가 이렇게 냄새를 맡는다: 컹컹컹컹컹\n",
            "대왕가 이렇게 냄새를 맡는다: 왕왕왕왕왕\n"
          ]
        }
      ]
    },
    {
      "cell_type": "markdown",
      "source": [
        "# **상속(Inheritance)**\n",
        "자식은 부모의 attribute와 method를 물려 받는다.\n",
        "\n",
        "  효율성\n",
        "\n",
        "\n",
        "자식은 물려 받은 부모의 attribute, method를\n",
        "\n",
        "   추가할 수 있다.\n",
        "\n",
        "   변경할 수 있다."
      ],
      "metadata": {
        "id": "90tJxoKPx7bt"
      }
    },
    {
      "cell_type": "markdown",
      "source": [
        "**코드**"
      ],
      "metadata": {
        "id": "7CoXIYRzyI_n"
      }
    },
    {
      "cell_type": "markdown",
      "source": [
        "class parent:\n",
        "\n",
        "\n",
        "class child(parent):\n",
        "\n"
      ],
      "metadata": {
        "id": "M_aHWvbIyKqg"
      }
    },
    {
      "cell_type": "markdown",
      "source": [
        "**1. 자식은 부모의 attribute, method를 물려 받는다.**"
      ],
      "metadata": {
        "id": "2pb4ffrByPe0"
      }
    },
    {
      "cell_type": "code",
      "source": [
        "class Dog:\n",
        "    def __init__(self, breed, name, weight):\n",
        "        self.breed = breed\n",
        "        self.name = name\n",
        "        self.weight = weight\n",
        "\n",
        "class Maltese(Dog):\n",
        "    def __init__(self, breed, name, weight, color='white'):\n",
        "        super().__init__(breed, name, weight)\n",
        "        self.color = color\n",
        "\n",
        "    def eat(self):\n",
        "        daily_food = self.weight * 10  # 일일 사료 섭취량 계산 (예시로 1kg당 10g로 가정)\n",
        "        return f'{self.name}은 하루에 {daily_food:.1f}g의 사료를 먹습니다.'\n",
        "\n",
        "# Maltese 클래스의 인스턴스 생성\n",
        "mydog = Maltese(\"Maltese\", \"대왕\", 3.6)\n",
        "\n",
        "# color 속성과 eat 메서드 테스트\n",
        "print(mydog.color)  # 출력: white\n",
        "print(mydog.eat())  # 출력: 대왕은 하루에 36.0g의 사료를 먹습니다."
      ],
      "metadata": {
        "colab": {
          "base_uri": "https://localhost:8080/"
        },
        "id": "AsyYB7aszPtW",
        "outputId": "68368359-0604-4a88-dfb4-1a632479b79c"
      },
      "execution_count": null,
      "outputs": [
        {
          "output_type": "stream",
          "name": "stdout",
          "text": [
            "white\n",
            "대왕은 하루에 36.0g의 사료를 먹습니다.\n"
          ]
        }
      ]
    },
    {
      "cell_type": "markdown",
      "source": [
        "**2.자식은 부모의 attribute, method를 변경 및 추가할 수 있다.**"
      ],
      "metadata": {
        "id": "d_abkY4v0Opk"
      }
    },
    {
      "cell_type": "markdown",
      "source": [
        "overriding(오버라이딩=덮어 씌우기)\n",
        "\n",
        "자식 클래스에서 정의한 메소드가 우선!\n",
        "\n",
        "부모 클래스와 이름이 동일한 메소드는 오버라이딩 됨"
      ],
      "metadata": {
        "id": "UFTPaRgR0UKE"
      }
    },
    {
      "cell_type": "code",
      "source": [
        "class Maltese(Dog):\n",
        "\n",
        "  def __init__(self, name:str, weight:float):\n",
        "    self.name = name\n",
        "    self.weight = weight\n"
      ],
      "metadata": {
        "id": "VjjpJq7q0eI5"
      },
      "execution_count": null,
      "outputs": []
    },
    {
      "cell_type": "code",
      "source": [
        "class Dog:\n",
        "    def __init__(self, breed, name, weight):\n",
        "        self.breed = breed\n",
        "        self.name = name\n",
        "        self.weight = weight\n",
        "\n",
        "class Maltese(Dog):\n",
        "    def __init__(self, breed, name, weight, color='white'):\n",
        "        super().__init__(breed, name, weight)\n",
        "        self.color = color\n",
        "\n",
        "    def eat(self):\n",
        "        daily_food = self.weight * 10  # 일일 사료 섭취량 계산 (예시로 1kg당 10g로 가정)\n",
        "        return f'{self.name}은 하루에 {daily_food:.1f}g의 사료를 먹습니다.'\n",
        "\n",
        "# Maltese 클래스의 인스턴스 생성\n",
        "mydog = Maltese(\"Maltese\", \"대왕\", 3.4)\n",
        "\n",
        "# color 속성과 eat 메서드 테스트\n",
        "print(mydog.eat())  # 출력: 대왕은 하루에 36.0g의 사료를 먹습니다."
      ],
      "metadata": {
        "colab": {
          "base_uri": "https://localhost:8080/"
        },
        "id": "0rMAWJOP0xYw",
        "outputId": "6c6a265d-5996-4416-d53d-c6436ffb0b1f"
      },
      "execution_count": null,
      "outputs": [
        {
          "output_type": "stream",
          "name": "stdout",
          "text": [
            "대왕은 하루에 34.0g의 사료를 먹습니다.\n"
          ]
        }
      ]
    },
    {
      "cell_type": "code",
      "source": [
        "class Dog:\n",
        "    def __init__(self, breed, name, weight):\n",
        "        self.breed = breed\n",
        "        self.name = name\n",
        "        self.weight = weight\n",
        "\n",
        "    def sniff(self, smell):\n",
        "        print(f'{self.name}가 {smell}하고 냄새를 맡습니다.')\n",
        "\n",
        "class Maltese(Dog):\n",
        "    def __init__(self, breed, name, weight, color='white'):\n",
        "        super().__init__(breed, name, weight)\n",
        "        self.color = color\n",
        "\n",
        "    def eat(self):\n",
        "        daily_food = self.weight * 10  # 일일 사료 섭취량 계산 (예시로 1kg당 10g로 가정)\n",
        "        return f'{self.name}은 하루에 {daily_food:.1f}g의 사료를 먹습니다.'\n",
        "\n",
        "# Maltese 클래스의 인스턴스 생성\n",
        "mydog = Maltese(\"Maltese\", \"대왕\", 3.6)\n",
        "\n",
        "# sniff 메서드 호출\n",
        "mydog.sniff(\"기쁨\")"
      ],
      "metadata": {
        "colab": {
          "base_uri": "https://localhost:8080/"
        },
        "id": "KsZpf6gV1BWp",
        "outputId": "815e7a1b-cf1d-49f0-f6ce-72e0635817d7"
      },
      "execution_count": null,
      "outputs": [
        {
          "output_type": "stream",
          "name": "stdout",
          "text": [
            "대왕가 기쁨하고 냄새를 맡습니다.\n"
          ]
        }
      ]
    },
    {
      "cell_type": "code",
      "source": [
        "class Video:\n",
        "  def __init__(self, title, description):\n",
        "    self.title = title\n",
        "    self.description = description\n",
        "    self.likes = 0"
      ],
      "metadata": {
        "id": "sLlvUC3A1Y2t"
      },
      "execution_count": null,
      "outputs": []
    },
    {
      "cell_type": "code",
      "source": [
        "def increase_like(self):\n",
        "  self.likes +=1 #self.likes = self,likes +1\n",
        "  print(self.title, \"likes: \", self.likes)"
      ],
      "metadata": {
        "id": "2st6UiFi1tqo"
      },
      "execution_count": null,
      "outputs": []
    },
    {
      "cell_type": "code",
      "source": [
        "def __init__(self, name):\n",
        "  self.name = name\n",
        "  self.likes =0"
      ],
      "metadata": {
        "id": "1sjH4i2V2BPj"
      },
      "execution_count": null,
      "outputs": []
    },
    {
      "cell_type": "code",
      "source": [
        "def hit_like(self, video):\n",
        "  self.likes +=1\n",
        "  video.increase_like()\n",
        "\n",
        "  print(self.name, \"liked\", self.likes, \"videos.\")"
      ],
      "metadata": {
        "id": "i_bZfiit2GxO"
      },
      "execution_count": null,
      "outputs": []
    },
    {
      "cell_type": "markdown",
      "source": [
        "# **Import modeule**"
      ],
      "metadata": {
        "id": "QBc-DFtG2WF3"
      }
    },
    {
      "cell_type": "markdown",
      "source": [
        "방법1\n",
        "from [소스코드] import [변수, 함수, 클래스 이름]"
      ],
      "metadata": {
        "id": "JT-zh0rO2Y9t"
      }
    },
    {
      "cell_type": "code",
      "source": [
        "from users import User\n",
        "from videos import Video"
      ],
      "metadata": {
        "id": "MAOQ_kGQ4Itx"
      },
      "execution_count": null,
      "outputs": []
    },
    {
      "cell_type": "markdown",
      "source": [
        "방법2\n",
        "\n",
        "from [소스코드] import [변수, 함수, 클래스 이름] as [새로운 변수명]"
      ],
      "metadata": {
        "id": "uKSKS8Oq2__N"
      }
    },
    {
      "cell_type": "code",
      "source": [
        "from users import user as YoutubeUser"
      ],
      "metadata": {
        "id": "gc4i1Q5P3HxN"
      },
      "execution_count": null,
      "outputs": []
    },
    {
      "cell_type": "code",
      "source": [
        "user = YoutubeUser(\"Jin\")"
      ],
      "metadata": {
        "id": "LqLDHR903LRt"
      },
      "execution_count": null,
      "outputs": []
    },
    {
      "cell_type": "code",
      "source": [
        "user.name"
      ],
      "metadata": {
        "id": "o5-OfoNe3Sj-"
      },
      "execution_count": null,
      "outputs": []
    },
    {
      "cell_type": "code",
      "source": [
        "user.likes"
      ],
      "metadata": {
        "id": "OQT2yQag3UXY"
      },
      "execution_count": null,
      "outputs": []
    },
    {
      "cell_type": "markdown",
      "source": [
        "방법 3\n",
        "\n",
        "import[소스코드] as [새로운 변수명]\n",
        "\n",
        "한 모듈에 많은 오브젝트가 구현되었을 때 모듈을 import할 수 있음\n",
        "\n",
        "모듈내 특정 오브젝트는 . 으로 접근 가능.(모듈.오브젝트이름)\n",
        "\n"
      ],
      "metadata": {
        "id": "F-juxS0m3Vgm"
      }
    },
    {
      "cell_type": "code",
      "source": [
        "import users as youtube_users"
      ],
      "metadata": {
        "id": "YfAiQh683ogH"
      },
      "execution_count": null,
      "outputs": []
    },
    {
      "cell_type": "code",
      "source": [
        "user= youtube_users.User(\"Jin\")"
      ],
      "metadata": {
        "id": "f7OQyeQO4KqW"
      },
      "execution_count": null,
      "outputs": []
    },
    {
      "cell_type": "code",
      "source": [
        "user.name"
      ],
      "metadata": {
        "id": "tDOd1Ilt4Lye"
      },
      "execution_count": null,
      "outputs": []
    },
    {
      "cell_type": "markdown",
      "source": [
        "# **비디오 좋아요 +1 누르기**"
      ],
      "metadata": {
        "id": "hGRBX8Cl4Omp"
      }
    },
    {
      "cell_type": "code",
      "source": [
        "Jin= User(\"Jin\")"
      ],
      "metadata": {
        "id": "qvxZ28rX4T-6"
      },
      "execution_count": null,
      "outputs": []
    },
    {
      "cell_type": "code",
      "source": [
        "video1=Video(\"Python10\", \"Explaining module and class\")"
      ],
      "metadata": {
        "id": "WjmCffRB4W7C"
      },
      "execution_count": null,
      "outputs": []
    },
    {
      "cell_type": "code",
      "source": [
        "Jin.hit_like(video1)"
      ],
      "metadata": {
        "id": "fPihXJKp4kJH"
      },
      "execution_count": null,
      "outputs": []
    },
    {
      "cell_type": "code",
      "source": [
        "video.likes"
      ],
      "metadata": {
        "id": "hJL0lhb04hh2"
      },
      "execution_count": null,
      "outputs": []
    },
    {
      "cell_type": "code",
      "source": [
        "jin.likes"
      ],
      "metadata": {
        "id": "T6gLxr8O4k99"
      },
      "execution_count": null,
      "outputs": []
    }
  ]
}